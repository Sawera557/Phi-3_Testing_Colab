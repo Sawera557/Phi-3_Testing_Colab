{
  "nbformat": 4,
  "nbformat_minor": 0,
  "metadata": {
    "colab": {
      "provenance": [],
      "gpuType": "T4",
      "include_colab_link": true
    },
    "kernelspec": {
      "name": "python3",
      "display_name": "Python 3"
    },
    "language_info": {
      "name": "python"
    },
    "accelerator": "GPU",
    "widgets": {
      "application/vnd.jupyter.widget-state+json": {
        "35f42ce4def04270a5a1b56faf40c4ce": {
          "model_module": "@jupyter-widgets/controls",
          "model_name": "HBoxModel",
          "model_module_version": "1.5.0",
          "state": {
            "_dom_classes": [],
            "_model_module": "@jupyter-widgets/controls",
            "_model_module_version": "1.5.0",
            "_model_name": "HBoxModel",
            "_view_count": null,
            "_view_module": "@jupyter-widgets/controls",
            "_view_module_version": "1.5.0",
            "_view_name": "HBoxView",
            "box_style": "",
            "children": [
              "IPY_MODEL_8744d4ece6b4443e90316bda71523776",
              "IPY_MODEL_fafdabe21ec7442089b889814370ef63",
              "IPY_MODEL_78c4a8079405424393e39723cf64608d"
            ],
            "layout": "IPY_MODEL_764a1be4afee4e70be24a4d3dfa8a9c8"
          }
        },
        "8744d4ece6b4443e90316bda71523776": {
          "model_module": "@jupyter-widgets/controls",
          "model_name": "HTMLModel",
          "model_module_version": "1.5.0",
          "state": {
            "_dom_classes": [],
            "_model_module": "@jupyter-widgets/controls",
            "_model_module_version": "1.5.0",
            "_model_name": "HTMLModel",
            "_view_count": null,
            "_view_module": "@jupyter-widgets/controls",
            "_view_module_version": "1.5.0",
            "_view_name": "HTMLView",
            "description": "",
            "description_tooltip": null,
            "layout": "IPY_MODEL_aa52b38a7a5d447aa2d4b935bdcc4741",
            "placeholder": "​",
            "style": "IPY_MODEL_da9da72e0eb74d47aefba72e1113435c",
            "value": "Loading checkpoint shards: 100%"
          }
        },
        "fafdabe21ec7442089b889814370ef63": {
          "model_module": "@jupyter-widgets/controls",
          "model_name": "FloatProgressModel",
          "model_module_version": "1.5.0",
          "state": {
            "_dom_classes": [],
            "_model_module": "@jupyter-widgets/controls",
            "_model_module_version": "1.5.0",
            "_model_name": "FloatProgressModel",
            "_view_count": null,
            "_view_module": "@jupyter-widgets/controls",
            "_view_module_version": "1.5.0",
            "_view_name": "ProgressView",
            "bar_style": "success",
            "description": "",
            "description_tooltip": null,
            "layout": "IPY_MODEL_8241319856d444cb813fb9f9f433205e",
            "max": 2,
            "min": 0,
            "orientation": "horizontal",
            "style": "IPY_MODEL_edfad31309114b2487b53a6c8c9c8dad",
            "value": 2
          }
        },
        "78c4a8079405424393e39723cf64608d": {
          "model_module": "@jupyter-widgets/controls",
          "model_name": "HTMLModel",
          "model_module_version": "1.5.0",
          "state": {
            "_dom_classes": [],
            "_model_module": "@jupyter-widgets/controls",
            "_model_module_version": "1.5.0",
            "_model_name": "HTMLModel",
            "_view_count": null,
            "_view_module": "@jupyter-widgets/controls",
            "_view_module_version": "1.5.0",
            "_view_name": "HTMLView",
            "description": "",
            "description_tooltip": null,
            "layout": "IPY_MODEL_649728145d0042feb35550d01f6a56e3",
            "placeholder": "​",
            "style": "IPY_MODEL_4f23a39fef9a44129170dd79e2b72e44",
            "value": " 2/2 [00:05&lt;00:00,  2.40s/it]"
          }
        },
        "764a1be4afee4e70be24a4d3dfa8a9c8": {
          "model_module": "@jupyter-widgets/base",
          "model_name": "LayoutModel",
          "model_module_version": "1.2.0",
          "state": {
            "_model_module": "@jupyter-widgets/base",
            "_model_module_version": "1.2.0",
            "_model_name": "LayoutModel",
            "_view_count": null,
            "_view_module": "@jupyter-widgets/base",
            "_view_module_version": "1.2.0",
            "_view_name": "LayoutView",
            "align_content": null,
            "align_items": null,
            "align_self": null,
            "border": null,
            "bottom": null,
            "display": null,
            "flex": null,
            "flex_flow": null,
            "grid_area": null,
            "grid_auto_columns": null,
            "grid_auto_flow": null,
            "grid_auto_rows": null,
            "grid_column": null,
            "grid_gap": null,
            "grid_row": null,
            "grid_template_areas": null,
            "grid_template_columns": null,
            "grid_template_rows": null,
            "height": null,
            "justify_content": null,
            "justify_items": null,
            "left": null,
            "margin": null,
            "max_height": null,
            "max_width": null,
            "min_height": null,
            "min_width": null,
            "object_fit": null,
            "object_position": null,
            "order": null,
            "overflow": null,
            "overflow_x": null,
            "overflow_y": null,
            "padding": null,
            "right": null,
            "top": null,
            "visibility": null,
            "width": null
          }
        },
        "aa52b38a7a5d447aa2d4b935bdcc4741": {
          "model_module": "@jupyter-widgets/base",
          "model_name": "LayoutModel",
          "model_module_version": "1.2.0",
          "state": {
            "_model_module": "@jupyter-widgets/base",
            "_model_module_version": "1.2.0",
            "_model_name": "LayoutModel",
            "_view_count": null,
            "_view_module": "@jupyter-widgets/base",
            "_view_module_version": "1.2.0",
            "_view_name": "LayoutView",
            "align_content": null,
            "align_items": null,
            "align_self": null,
            "border": null,
            "bottom": null,
            "display": null,
            "flex": null,
            "flex_flow": null,
            "grid_area": null,
            "grid_auto_columns": null,
            "grid_auto_flow": null,
            "grid_auto_rows": null,
            "grid_column": null,
            "grid_gap": null,
            "grid_row": null,
            "grid_template_areas": null,
            "grid_template_columns": null,
            "grid_template_rows": null,
            "height": null,
            "justify_content": null,
            "justify_items": null,
            "left": null,
            "margin": null,
            "max_height": null,
            "max_width": null,
            "min_height": null,
            "min_width": null,
            "object_fit": null,
            "object_position": null,
            "order": null,
            "overflow": null,
            "overflow_x": null,
            "overflow_y": null,
            "padding": null,
            "right": null,
            "top": null,
            "visibility": null,
            "width": null
          }
        },
        "da9da72e0eb74d47aefba72e1113435c": {
          "model_module": "@jupyter-widgets/controls",
          "model_name": "DescriptionStyleModel",
          "model_module_version": "1.5.0",
          "state": {
            "_model_module": "@jupyter-widgets/controls",
            "_model_module_version": "1.5.0",
            "_model_name": "DescriptionStyleModel",
            "_view_count": null,
            "_view_module": "@jupyter-widgets/base",
            "_view_module_version": "1.2.0",
            "_view_name": "StyleView",
            "description_width": ""
          }
        },
        "8241319856d444cb813fb9f9f433205e": {
          "model_module": "@jupyter-widgets/base",
          "model_name": "LayoutModel",
          "model_module_version": "1.2.0",
          "state": {
            "_model_module": "@jupyter-widgets/base",
            "_model_module_version": "1.2.0",
            "_model_name": "LayoutModel",
            "_view_count": null,
            "_view_module": "@jupyter-widgets/base",
            "_view_module_version": "1.2.0",
            "_view_name": "LayoutView",
            "align_content": null,
            "align_items": null,
            "align_self": null,
            "border": null,
            "bottom": null,
            "display": null,
            "flex": null,
            "flex_flow": null,
            "grid_area": null,
            "grid_auto_columns": null,
            "grid_auto_flow": null,
            "grid_auto_rows": null,
            "grid_column": null,
            "grid_gap": null,
            "grid_row": null,
            "grid_template_areas": null,
            "grid_template_columns": null,
            "grid_template_rows": null,
            "height": null,
            "justify_content": null,
            "justify_items": null,
            "left": null,
            "margin": null,
            "max_height": null,
            "max_width": null,
            "min_height": null,
            "min_width": null,
            "object_fit": null,
            "object_position": null,
            "order": null,
            "overflow": null,
            "overflow_x": null,
            "overflow_y": null,
            "padding": null,
            "right": null,
            "top": null,
            "visibility": null,
            "width": null
          }
        },
        "edfad31309114b2487b53a6c8c9c8dad": {
          "model_module": "@jupyter-widgets/controls",
          "model_name": "ProgressStyleModel",
          "model_module_version": "1.5.0",
          "state": {
            "_model_module": "@jupyter-widgets/controls",
            "_model_module_version": "1.5.0",
            "_model_name": "ProgressStyleModel",
            "_view_count": null,
            "_view_module": "@jupyter-widgets/base",
            "_view_module_version": "1.2.0",
            "_view_name": "StyleView",
            "bar_color": null,
            "description_width": ""
          }
        },
        "649728145d0042feb35550d01f6a56e3": {
          "model_module": "@jupyter-widgets/base",
          "model_name": "LayoutModel",
          "model_module_version": "1.2.0",
          "state": {
            "_model_module": "@jupyter-widgets/base",
            "_model_module_version": "1.2.0",
            "_model_name": "LayoutModel",
            "_view_count": null,
            "_view_module": "@jupyter-widgets/base",
            "_view_module_version": "1.2.0",
            "_view_name": "LayoutView",
            "align_content": null,
            "align_items": null,
            "align_self": null,
            "border": null,
            "bottom": null,
            "display": null,
            "flex": null,
            "flex_flow": null,
            "grid_area": null,
            "grid_auto_columns": null,
            "grid_auto_flow": null,
            "grid_auto_rows": null,
            "grid_column": null,
            "grid_gap": null,
            "grid_row": null,
            "grid_template_areas": null,
            "grid_template_columns": null,
            "grid_template_rows": null,
            "height": null,
            "justify_content": null,
            "justify_items": null,
            "left": null,
            "margin": null,
            "max_height": null,
            "max_width": null,
            "min_height": null,
            "min_width": null,
            "object_fit": null,
            "object_position": null,
            "order": null,
            "overflow": null,
            "overflow_x": null,
            "overflow_y": null,
            "padding": null,
            "right": null,
            "top": null,
            "visibility": null,
            "width": null
          }
        },
        "4f23a39fef9a44129170dd79e2b72e44": {
          "model_module": "@jupyter-widgets/controls",
          "model_name": "DescriptionStyleModel",
          "model_module_version": "1.5.0",
          "state": {
            "_model_module": "@jupyter-widgets/controls",
            "_model_module_version": "1.5.0",
            "_model_name": "DescriptionStyleModel",
            "_view_count": null,
            "_view_module": "@jupyter-widgets/base",
            "_view_module_version": "1.2.0",
            "_view_name": "StyleView",
            "description_width": ""
          }
        }
      }
    }
  },
  "cells": [
    {
      "cell_type": "markdown",
      "metadata": {
        "id": "view-in-github",
        "colab_type": "text"
      },
      "source": [
        "<a href=\"https://colab.research.google.com/github/Sawera557/Phi-3_Testing_Colab/blob/main/Testing_of_Phi_3.ipynb\" target=\"_parent\"><img src=\"https://colab.research.google.com/assets/colab-badge.svg\" alt=\"Open In Colab\"/></a>"
      ]
    },
    {
      "cell_type": "markdown",
      "source": [
        "###Install libraries"
      ],
      "metadata": {
        "id": "jcabq0WZmiTY"
      }
    },
    {
      "cell_type": "code",
      "execution_count": null,
      "metadata": {
        "id": "3uDP4ORHKEyw"
      },
      "outputs": [],
      "source": [
        "!pip install transformers sentencepiece accelerate bitsandbytes einops"
      ]
    },
    {
      "cell_type": "markdown",
      "source": [
        "###Initialization of Model and Tokenizer"
      ],
      "metadata": {
        "id": "TBdM39B8mrLg"
      }
    },
    {
      "cell_type": "code",
      "source": [
        "import torch\n",
        "from transformers import AutoModelForCausalLM, AutoTokenizer, pipeline\n",
        "\n",
        "torch.random.manual_seed(0)\n",
        "\n",
        "model = AutoModelForCausalLM.from_pretrained(\n",
        "    \"microsoft/Phi-3-mini-128k-instruct\",\n",
        "    device_map=\"cuda\",\n",
        "    torch_dtype=\"auto\",\n",
        "    trust_remote_code=True,\n",
        ")\n",
        "tokenizer = AutoTokenizer.from_pretrained(\"microsoft/Phi-3-mini-128k-instruct\")\n"
      ],
      "metadata": {
        "colab": {
          "base_uri": "https://localhost:8080/",
          "height": 205,
          "referenced_widgets": [
            "35f42ce4def04270a5a1b56faf40c4ce",
            "8744d4ece6b4443e90316bda71523776",
            "fafdabe21ec7442089b889814370ef63",
            "78c4a8079405424393e39723cf64608d",
            "764a1be4afee4e70be24a4d3dfa8a9c8",
            "aa52b38a7a5d447aa2d4b935bdcc4741",
            "da9da72e0eb74d47aefba72e1113435c",
            "8241319856d444cb813fb9f9f433205e",
            "edfad31309114b2487b53a6c8c9c8dad",
            "649728145d0042feb35550d01f6a56e3",
            "4f23a39fef9a44129170dd79e2b72e44"
          ]
        },
        "id": "sF-wUIrXSmtz",
        "outputId": "cd6775e5-9da5-4f30-ca6a-ee3002c70cc0"
      },
      "execution_count": null,
      "outputs": [
        {
          "output_type": "stream",
          "name": "stderr",
          "text": [
            "/usr/local/lib/python3.10/dist-packages/huggingface_hub/utils/_token.py:88: UserWarning: \n",
            "The secret `HF_TOKEN` does not exist in your Colab secrets.\n",
            "To authenticate with the Hugging Face Hub, create a token in your settings tab (https://huggingface.co/settings/tokens), set it as secret in your Google Colab and restart your session.\n",
            "You will be able to reuse this secret in all of your notebooks.\n",
            "Please note that authentication is recommended but still optional to access public models or datasets.\n",
            "  warnings.warn(\n",
            "WARNING:transformers_modules.microsoft.Phi-3-mini-128k-instruct.eda34e12ab75782359159ab49e645bb32bbffe9a.modeling_phi3:`flash-attention` package not found, consider installing for better performance: No module named 'flash_attn'.\n",
            "WARNING:transformers_modules.microsoft.Phi-3-mini-128k-instruct.eda34e12ab75782359159ab49e645bb32bbffe9a.modeling_phi3:Current `flash-attenton` does not support `window_size`. Either upgrade or use `attn_implementation='eager'`.\n"
          ]
        },
        {
          "output_type": "display_data",
          "data": {
            "text/plain": [
              "Loading checkpoint shards:   0%|          | 0/2 [00:00<?, ?it/s]"
            ],
            "application/vnd.jupyter.widget-view+json": {
              "version_major": 2,
              "version_minor": 0,
              "model_id": "35f42ce4def04270a5a1b56faf40c4ce"
            }
          },
          "metadata": {}
        },
        {
          "output_type": "stream",
          "name": "stderr",
          "text": [
            "Special tokens have been added in the vocabulary, make sure the associated word embeddings are fine-tuned or trained.\n"
          ]
        }
      ]
    },
    {
      "cell_type": "markdown",
      "source": [
        "### Test with Prompt: 01"
      ],
      "metadata": {
        "id": "8cSC57cEmyMi"
      }
    },
    {
      "cell_type": "code",
      "source": [
        "\n",
        "messages = [\n",
        "    {\"role\": \"user\", \"content\": \"Write me full guideline how to build Website with flask\"},\n",
        "]\n",
        "\n",
        "pipe = pipeline(\n",
        "    \"text-generation\",\n",
        "    model=model,\n",
        "    tokenizer=tokenizer,\n",
        ")\n",
        "\n",
        "generation_args = {\n",
        "    \"max_new_tokens\": 500,\n",
        "    \"return_full_text\": False,\n",
        "    \"temperature\": 0.0,\n",
        "    \"do_sample\": False,\n",
        "}\n",
        "\n",
        "output = pipe(messages, **generation_args)\n",
        "print(output[0]['generated_text'])\n"
      ],
      "metadata": {
        "colab": {
          "base_uri": "https://localhost:8080/"
        },
        "id": "lIln0VQUTqwZ",
        "outputId": "0253379b-d31b-4ee8-c009-b230e900b3bb"
      },
      "execution_count": null,
      "outputs": [
        {
          "output_type": "stream",
          "name": "stderr",
          "text": [
            "/usr/local/lib/python3.10/dist-packages/transformers/generation/configuration_utils.py:492: UserWarning: `do_sample` is set to `False`. However, `temperature` is set to `0.0` -- this flag is only used in sample-based generation modes. You should set `do_sample=True` or unset `temperature`.\n",
            "  warnings.warn(\n"
          ]
        },
        {
          "output_type": "stream",
          "name": "stdout",
          "text": [
            " Building a website using Flask involves several steps, from setting up your environment to deploying your application. Below is a comprehensive guide to help you create a basic yet functional website using Flask. This guide assumes you have a basic understanding of Python and web development concepts.\n",
            "\n",
            "### Step 1: Install Flask\n",
            "\n",
            "First, you need to install Flask. You can do this using pip, Python's package installer. Open your terminal or command prompt and run:\n",
            "\n",
            "```bash\n",
            "pip install Flask\n",
            "```\n",
            "\n",
            "### Step 2: Set Up Your Project\n",
            "\n",
            "Create a new directory for your project and navigate into it. Then, create a file named `app.py`. This file will contain the main code for your Flask application.\n",
            "\n",
            "```bash\n",
            "mkdir flask_website && cd flask_website\n",
            "touch app.py\n",
            "```\n",
            "\n",
            "### Step 3: Write Your First Flask Application\n",
            "\n",
            "Open `app.py` and start by importing Flask and initializing your app.\n",
            "\n",
            "```python\n",
            "from flask import Flask, render_template\n",
            "\n",
            "app = Flask(__name__)\n",
            "\n",
            "@app.route('/')\n",
            "def home():\n",
            "    return \"Hello, Flask!\"\n",
            "\n",
            "if __name__ == '__main__':\n",
            "    app.run(debug=True)\n",
            "```\n",
            "\n",
            "### Step 4: Create Your Website Structure\n",
            "\n",
            "Flask uses a template engine called Jinja2 to allow for dynamic content. Create a folder named `templates` in your project directory. Inside this folder, create an HTML file named `index.html`.\n",
            "\n",
            "```html\n",
            "<!-- templates/index.html -->\n",
            "<!DOCTYPE html>\n",
            "<html lang=\"en\">\n",
            "<head>\n",
            "    <meta charset=\"UTF-8\">\n",
            "    <meta name=\"viewport\" content=\"width=device-width, initial-scale=1.0\">\n",
            "    <title>Flask Website</title>\n",
            "</head>\n",
            "<body>\n",
            "    <h1>Welcome to My Flask Website!</h1>\n",
            "</body>\n",
            "</html>\n",
            "```\n",
            "\n",
            "### Step 5: Update Your Flask Application to Use Templates\n",
            "\n",
            "Modify your `app.py` to render the `index.html` template when the home route is accessed.\n",
            "\n",
            "```python\n"
          ]
        }
      ]
    },
    {
      "cell_type": "markdown",
      "source": [
        "### Test with Prompt: 02"
      ],
      "metadata": {
        "id": "mdS7jzsvm2Xm"
      }
    },
    {
      "cell_type": "code",
      "source": [
        "\n",
        "messages = [\n",
        "    {\"role\": \"user\", \"content\": \"Write names of all the opensource platforms for speech to lipsync video\"},\n",
        "]\n",
        "\n",
        "pipe = pipeline(\n",
        "    \"text-generation\",\n",
        "    model=model,\n",
        "    tokenizer=tokenizer,\n",
        ")\n",
        "\n",
        "generation_args = {\n",
        "    \"max_new_tokens\": 500,\n",
        "    \"return_full_text\": False,\n",
        "    \"temperature\": 0.0,\n",
        "    \"do_sample\": False,\n",
        "}\n",
        "\n",
        "output = pipe(messages, **generation_args)\n",
        "print(output[0]['generated_text'])\n"
      ],
      "metadata": {
        "colab": {
          "base_uri": "https://localhost:8080/"
        },
        "id": "qKvLt-SXZ5DX",
        "outputId": "213ae29b-4836-42b0-ed00-d4596d39044a"
      },
      "execution_count": null,
      "outputs": [
        {
          "output_type": "stream",
          "name": "stdout",
          "text": [
            " Creating speech-to-lip sync videos involves several steps, including speech recognition, text-to-lip sync conversion, and video editing. While there isn't a direct \"opensource platform\" dedicated solely to speech-to-lip sync videos, there are various open-source tools and platforms that can be combined to achieve this. Here are some notable open-source tools and platforms that can be used for different aspects of creating speech-to-lip sync videos:\n",
            "\n",
            "1. **Google Cloud Speech-to-Text**:\n",
            "   - While not entirely open-source, Google Cloud Speech-to-Text offers a free tier for speech recognition. It can be used to transcribe audio files into text.\n",
            "\n",
            "2. **CMU Sphinx (PocketSphinx)**:\n",
            "   - An open-source speech recognition engine that can be used for transcribing audio files into text.\n",
            "\n",
            "3. **TensorFlow and PyTorch**:\n",
            "   - These open-source libraries can be used to build custom speech recognition models if you need more control or specificity than what's offered by CMU Sphinx.\n",
            "\n",
            "4. **Tesseract OCR**:\n",
            "   - Primarily for text recognition, Tesseract can be used in conjunction with speech recognition tools to extract text from images or video frames for further processing.\n",
            "\n",
            "5. **OpenCV**:\n",
            "   - For video processing tasks, OpenCV can be used to manipulate video frames, which might be necessary for integrating lip sync animations.\n",
            "\n",
            "6. **Synthesizer**:\n",
            "   - An open-source text-to-speech (TTS) engine that can be used to generate speech from text.\n",
            "\n",
            "7. **Mimic**:\n",
            "   - Another open-source TTS engine that can be used to convert text into speech.\n",
            "\n",
            "8. **TTS-Lip-Sync**:\n",
            "   - A specific open-source project aimed at creating lip-sync animations from text. It uses TTS engines to generate speech and then applies lip-sync animations.\n",
            "\n",
            "9. **Blender**:\n",
            "   - A powerful open-source 3D creation suite that can be used for creating and animating characters, including lip-sync animations.\n",
            "\n",
            "10. **OpenShadingLanguage (OS\n"
          ]
        }
      ]
    },
    {
      "cell_type": "markdown",
      "source": [
        "### Test with Prompt: 03"
      ],
      "metadata": {
        "id": "ifkfFUElm3zD"
      }
    },
    {
      "cell_type": "code",
      "source": [
        "\n",
        "messages = [\n",
        "    {\"role\": \"user\", \"content\": \"explain the use of terraform\"},\n",
        "]\n",
        "\n",
        "pipe = pipeline(\n",
        "    \"text-generation\",\n",
        "    model=model,\n",
        "    tokenizer=tokenizer,\n",
        ")\n",
        "\n",
        "generation_args = {\n",
        "    \"max_new_tokens\": 500,\n",
        "    \"return_full_text\": False,\n",
        "    \"temperature\": 0.0,\n",
        "    \"do_sample\": False,\n",
        "}\n",
        "\n",
        "output = pipe(messages, **generation_args)\n",
        "print(output[0]['generated_text'])\n"
      ],
      "metadata": {
        "colab": {
          "base_uri": "https://localhost:8080/"
        },
        "id": "p0CkaDWibFnr",
        "outputId": "b4f5b701-008b-4e21-84a0-b139a37f75fb"
      },
      "execution_count": null,
      "outputs": [
        {
          "output_type": "stream",
          "name": "stdout",
          "text": [
            " Terraform is an open-source infrastructure as code (IaC) tool created by HashiCorp. It allows users to define and provision data center infrastructure using a declarative configuration language. Terraform can manage existing and popular service providers as well as custom in-house solutions.\n",
            "\n",
            "Here are some of the key uses of Terraform:\n",
            "\n",
            "1. **Infrastructure Provisioning**: Terraform is primarily used to create, modify, and destroy infrastructure in a cloud environment. It can provision resources such as virtual machines, networks, and storage in a cloud provider like AWS, Azure, or GCP.\n",
            "\n",
            "2. **State Management**: Terraform manages the state of your infrastructure, which helps in keeping track of the resources and their configurations. This state is stored in a file, which Terraform uses to determine the current state of the infrastructure and to plan changes.\n",
            "\n",
            "3. **Version Control**: Terraform configurations can be stored in version control systems like Git. This allows for collaboration among teams, tracking changes over time, and ensuring that infrastructure changes are made in a controlled manner.\n",
            "\n",
            "4. **Repeatable Deployments**: By using Terraform, you can create repeatable and predictable deployments. This is because the infrastructure is defined in code, which can be versioned and shared among team members.\n",
            "\n",
            "5. **Multi-Cloud and On-Premises**: Terraform is not limited to cloud environments. It can also manage infrastructure on-premises, making it a versatile tool for both cloud and traditional environments.\n",
            "\n",
            "6. **Isolation of Infrastructure Management**: Terraform allows for the separation of infrastructure management from application management. This means that changes to the infrastructure can be made without affecting the applications running on it.\n",
            "\n",
            "7. **Cost Management**: Terraform can be used to automate the creation of infrastructure, which helps in reducing manual errors and ensures that resources are only provisioned as needed. This can lead to more efficient use of resources and cost savings.\n",
            "\n",
            "8. **Scalability**: Terraform's ability to manage infrastructure as code makes it easier to scale infrastructure up or down as needed. This is particularly useful for applications with variable workloads.\n",
            "\n",
            "9. **Security**: Terraform can be used\n"
          ]
        }
      ]
    },
    {
      "cell_type": "markdown",
      "source": [
        "### Test with Prompt: 04"
      ],
      "metadata": {
        "id": "H1w46lPhm6_-"
      }
    },
    {
      "cell_type": "code",
      "source": [
        "\n",
        "messages = [\n",
        "    {\"role\": \"user\", \"content\": \"Write all opensource avatars for real time speech lip sync\"},\n",
        "]\n",
        "\n",
        "pipe = pipeline(\n",
        "    \"text-generation\",\n",
        "    model=model,\n",
        "    tokenizer=tokenizer,\n",
        ")\n",
        "\n",
        "generation_args = {\n",
        "    \"max_new_tokens\": 500,\n",
        "    \"return_full_text\": False,\n",
        "    \"temperature\": 0.0,\n",
        "    \"do_sample\": False,\n",
        "}\n",
        "\n",
        "output = pipe(messages, **generation_args)\n",
        "print(output[0]['generated_text'])\n"
      ],
      "metadata": {
        "colab": {
          "base_uri": "https://localhost:8080/"
        },
        "id": "l7BVssyWahln",
        "outputId": "d4f4f2fb-388e-4cd6-848a-b0eecf0e238c"
      },
      "execution_count": null,
      "outputs": [
        {
          "output_type": "stream",
          "name": "stdout",
          "text": [
            " Finding all open-source avatars specifically designed for real-time speech lip sync involves searching through various repositories and platforms where developers share their work. As of my last update, here are some notable resources and projects that might contain what you're looking for:\n",
            "\n",
            "1. **TensorFlow Lip-Sync Projects**: TensorFlow and similar machine learning frameworks have been used for creating lip-syncing avatars. Projects like \"Talking Head\" or \"FaceSwap\" might offer insights or components that could be adapted for real-time speech lip sync.\n",
            "\n",
            "   - GitHub: https://github.com/tensorflow/models/tree/master/research/face_optx\n",
            "\n",
            "2. **OpenAI's Muse**: While primarily focused on generating human-like text, OpenAI's Muse project has components that could potentially be adapted for speech synthesis and lip-syncing.\n",
            "\n",
            "   - GitHub: https://github.com/openai/muse\n",
            "\n",
            "3. **DeepSpeech**: This project focuses on automatic speech recognition but understanding speech patterns could be a stepping stone for lip-syncing applications.\n",
            "\n",
            "   - GitHub: https://github.com/mozilla/DeepSpeech\n",
            "\n",
            "4. **FaceSwap**: This project, while not specifically for lip-syncing, involves facial manipulation and could provide insights into facial feature synchronization.\n",
            "\n",
            "   - GitHub: https://github.com/deepfakes/deepfakes\n",
            "\n",
            "5. **FaceApp**: Although not open-source, it offers a glimpse into real-time facial manipulation and lip-syncing features. For inspiration and understanding of current capabilities, it could be a starting point.\n",
            "\n",
            "   - App Store: https://apps.apple.com/us/app/faceapp/id1427420074\n",
            "\n",
            "6. **Open-source projects on GitHub**: A broader search on GitHub using keywords like \"lip-sync\", \"avatar\", \"real-time speech\", and \"facial animation\" might uncover lesser-known projects or forks of existing projects that are open-source and could be adapted for your needs.\n",
            "\n",
            "   - GitHub Search: https://github.com/search?q=lip-sync%\n"
          ]
        }
      ]
    }
  ]
}